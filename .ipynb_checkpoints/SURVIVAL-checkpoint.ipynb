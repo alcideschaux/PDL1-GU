{
 "cells": [
  {
   "cell_type": "code",
   "execution_count": 1,
   "metadata": {},
   "outputs": [
    {
     "data": {
      "text/html": [
       "<div>\n",
       "<style scoped>\n",
       "    .dataframe tbody tr th:only-of-type {\n",
       "        vertical-align: middle;\n",
       "    }\n",
       "\n",
       "    .dataframe tbody tr th {\n",
       "        vertical-align: top;\n",
       "    }\n",
       "\n",
       "    .dataframe thead th {\n",
       "        text-align: right;\n",
       "    }\n",
       "</style>\n",
       "<table border=\"1\" class=\"dataframe\">\n",
       "  <thead>\n",
       "    <tr style=\"text-align: right;\">\n",
       "      <th></th>\n",
       "      <th>id</th>\n",
       "      <th>sex</th>\n",
       "      <th>race</th>\n",
       "      <th>age</th>\n",
       "      <th>tissue</th>\n",
       "      <th>specimen</th>\n",
       "      <th>dx</th>\n",
       "      <th>subtype</th>\n",
       "      <th>primary</th>\n",
       "      <th>date_dx</th>\n",
       "      <th>anti_pdl1</th>\n",
       "      <th>outcome</th>\n",
       "      <th>date_last</th>\n",
       "      <th>pdl1_expression</th>\n",
       "      <th>pdl1_score</th>\n",
       "      <th>origin</th>\n",
       "      <th>primary_merged</th>\n",
       "      <th>fu_months</th>\n",
       "      <th>mortality_overall</th>\n",
       "      <th>mortality_cancer</th>\n",
       "    </tr>\n",
       "  </thead>\n",
       "  <tbody>\n",
       "    <tr>\n",
       "      <th>0</th>\n",
       "      <td>1</td>\n",
       "      <td>Female</td>\n",
       "      <td>Causasian</td>\n",
       "      <td>45</td>\n",
       "      <td>K</td>\n",
       "      <td>rad nephrectomy</td>\n",
       "      <td>CC RCC</td>\n",
       "      <td>Renal cell carcinoma</td>\n",
       "      <td>Kidney</td>\n",
       "      <td>2020-03-24</td>\n",
       "      <td>No</td>\n",
       "      <td>NED</td>\n",
       "      <td>2020-06-04</td>\n",
       "      <td>Positive</td>\n",
       "      <td>10.0</td>\n",
       "      <td>Primary</td>\n",
       "      <td>Kidney</td>\n",
       "      <td>2.365552</td>\n",
       "      <td>AWD + NED</td>\n",
       "      <td>AWD + NED + DOC</td>\n",
       "    </tr>\n",
       "    <tr>\n",
       "      <th>1</th>\n",
       "      <td>2</td>\n",
       "      <td>Male</td>\n",
       "      <td>Causasian</td>\n",
       "      <td>65</td>\n",
       "      <td>P</td>\n",
       "      <td>partial penectomy</td>\n",
       "      <td>Inv SCC, usual</td>\n",
       "      <td>Squamous cell carcinoma</td>\n",
       "      <td>Penis</td>\n",
       "      <td>2019-11-14</td>\n",
       "      <td>Yes</td>\n",
       "      <td>AWD</td>\n",
       "      <td>2020-08-04</td>\n",
       "      <td>Positive</td>\n",
       "      <td>60.0</td>\n",
       "      <td>Primary</td>\n",
       "      <td>NaN</td>\n",
       "      <td>8.673689</td>\n",
       "      <td>AWD + NED</td>\n",
       "      <td>AWD + NED + DOC</td>\n",
       "    </tr>\n",
       "    <tr>\n",
       "      <th>2</th>\n",
       "      <td>3</td>\n",
       "      <td>Male</td>\n",
       "      <td>Causasian</td>\n",
       "      <td>43</td>\n",
       "      <td>K</td>\n",
       "      <td>rad nephrectomy</td>\n",
       "      <td>ChrRCC</td>\n",
       "      <td>Renal cell carcinoma</td>\n",
       "      <td>Kidney</td>\n",
       "      <td>2018-03-02</td>\n",
       "      <td>Yes</td>\n",
       "      <td>AWD</td>\n",
       "      <td>2020-09-04</td>\n",
       "      <td>Negative</td>\n",
       "      <td>7.0</td>\n",
       "      <td>Primary</td>\n",
       "      <td>Kidney</td>\n",
       "      <td>30.127929</td>\n",
       "      <td>AWD + NED</td>\n",
       "      <td>AWD + NED + DOC</td>\n",
       "    </tr>\n",
       "    <tr>\n",
       "      <th>3</th>\n",
       "      <td>4</td>\n",
       "      <td>Male</td>\n",
       "      <td>African-American</td>\n",
       "      <td>69</td>\n",
       "      <td>K</td>\n",
       "      <td>Bone (L5) excision</td>\n",
       "      <td>Mets CC RCC</td>\n",
       "      <td>Renal cell carcinoma</td>\n",
       "      <td>Kidney</td>\n",
       "      <td>2019-11-04</td>\n",
       "      <td>Yes</td>\n",
       "      <td>AWD</td>\n",
       "      <td>2020-09-16</td>\n",
       "      <td>Positive</td>\n",
       "      <td>40.0</td>\n",
       "      <td>Metastatic</td>\n",
       "      <td>Kidney</td>\n",
       "      <td>10.414998</td>\n",
       "      <td>AWD + NED</td>\n",
       "      <td>AWD + NED + DOC</td>\n",
       "    </tr>\n",
       "    <tr>\n",
       "      <th>4</th>\n",
       "      <td>5</td>\n",
       "      <td>Female</td>\n",
       "      <td>African-American</td>\n",
       "      <td>79</td>\n",
       "      <td>K</td>\n",
       "      <td>Needle biopsy</td>\n",
       "      <td>CC RCC</td>\n",
       "      <td>Renal cell carcinoma</td>\n",
       "      <td>Kidney</td>\n",
       "      <td>2020-03-24</td>\n",
       "      <td>No</td>\n",
       "      <td>AWD</td>\n",
       "      <td>2020-05-15</td>\n",
       "      <td>Negative</td>\n",
       "      <td>4.0</td>\n",
       "      <td>Primary</td>\n",
       "      <td>Kidney</td>\n",
       "      <td>1.708454</td>\n",
       "      <td>AWD + NED</td>\n",
       "      <td>AWD + NED + DOC</td>\n",
       "    </tr>\n",
       "  </tbody>\n",
       "</table>\n",
       "</div>"
      ],
      "text/plain": [
       "   id     sex              race  age tissue            specimen  \\\n",
       "0   1  Female         Causasian   45      K     rad nephrectomy   \n",
       "1   2    Male         Causasian   65      P   partial penectomy   \n",
       "2   3    Male         Causasian   43      K     rad nephrectomy   \n",
       "3   4    Male  African-American   69      K  Bone (L5) excision   \n",
       "4   5  Female  African-American   79      K       Needle biopsy   \n",
       "\n",
       "               dx                  subtype primary    date_dx anti_pdl1  \\\n",
       "0          CC RCC     Renal cell carcinoma  Kidney 2020-03-24        No   \n",
       "1  Inv SCC, usual  Squamous cell carcinoma   Penis 2019-11-14       Yes   \n",
       "2          ChrRCC     Renal cell carcinoma  Kidney 2018-03-02       Yes   \n",
       "3     Mets CC RCC     Renal cell carcinoma  Kidney 2019-11-04       Yes   \n",
       "4          CC RCC     Renal cell carcinoma  Kidney 2020-03-24        No   \n",
       "\n",
       "  outcome  date_last pdl1_expression  pdl1_score      origin primary_merged  \\\n",
       "0     NED 2020-06-04        Positive        10.0     Primary         Kidney   \n",
       "1     AWD 2020-08-04        Positive        60.0     Primary            NaN   \n",
       "2     AWD 2020-09-04        Negative         7.0     Primary         Kidney   \n",
       "3     AWD 2020-09-16        Positive        40.0  Metastatic         Kidney   \n",
       "4     AWD 2020-05-15        Negative         4.0     Primary         Kidney   \n",
       "\n",
       "   fu_months mortality_overall mortality_cancer  \n",
       "0   2.365552         AWD + NED  AWD + NED + DOC  \n",
       "1   8.673689         AWD + NED  AWD + NED + DOC  \n",
       "2  30.127929         AWD + NED  AWD + NED + DOC  \n",
       "3  10.414998         AWD + NED  AWD + NED + DOC  \n",
       "4   1.708454         AWD + NED  AWD + NED + DOC  "
      ]
     },
     "execution_count": 1,
     "metadata": {},
     "output_type": "execute_result"
    }
   ],
   "source": [
    "import pandas as pd\n",
    "import numpy as np\n",
    "from lifelines import KaplanMeierFitter\n",
    "from lifelines.statistics import multivariate_logrank_test, pairwise_logrank_test\n",
    "\n",
    "import matplotlib.pyplot as plt\n",
    "import seaborn as sns\n",
    "sns.set(rc={'figure.figsize':[12,8]})\n",
    "\n",
    "df = pd.read_pickle('PDL1_GU_DATA.pkl')\n",
    "\n",
    "df.head()"
   ]
  },
  {
   "cell_type": "markdown",
   "metadata": {},
   "source": [
    "# Survival curves"
   ]
  },
  {
   "cell_type": "code",
   "execution_count": 2,
   "metadata": {},
   "outputs": [
    {
     "data": {
      "text/html": [
       "<div>\n",
       "<style scoped>\n",
       "    .dataframe tbody tr th:only-of-type {\n",
       "        vertical-align: middle;\n",
       "    }\n",
       "\n",
       "    .dataframe tbody tr th {\n",
       "        vertical-align: top;\n",
       "    }\n",
       "\n",
       "    .dataframe thead th {\n",
       "        text-align: right;\n",
       "    }\n",
       "</style>\n",
       "<table border=\"1\" class=\"dataframe\">\n",
       "  <thead>\n",
       "    <tr style=\"text-align: right;\">\n",
       "      <th></th>\n",
       "      <th>pdl1_expression</th>\n",
       "      <th>primary</th>\n",
       "      <th>fu_months</th>\n",
       "      <th>mortality_overall</th>\n",
       "      <th>mortality_cancer</th>\n",
       "    </tr>\n",
       "  </thead>\n",
       "  <tbody>\n",
       "    <tr>\n",
       "      <th>0</th>\n",
       "      <td>Positive</td>\n",
       "      <td>Kidney</td>\n",
       "      <td>2.365552</td>\n",
       "      <td>0</td>\n",
       "      <td>0</td>\n",
       "    </tr>\n",
       "    <tr>\n",
       "      <th>1</th>\n",
       "      <td>Positive</td>\n",
       "      <td>Penis</td>\n",
       "      <td>8.673689</td>\n",
       "      <td>0</td>\n",
       "      <td>0</td>\n",
       "    </tr>\n",
       "    <tr>\n",
       "      <th>2</th>\n",
       "      <td>Negative</td>\n",
       "      <td>Kidney</td>\n",
       "      <td>30.127929</td>\n",
       "      <td>0</td>\n",
       "      <td>0</td>\n",
       "    </tr>\n",
       "    <tr>\n",
       "      <th>3</th>\n",
       "      <td>Positive</td>\n",
       "      <td>Kidney</td>\n",
       "      <td>10.414998</td>\n",
       "      <td>0</td>\n",
       "      <td>0</td>\n",
       "    </tr>\n",
       "    <tr>\n",
       "      <th>4</th>\n",
       "      <td>Negative</td>\n",
       "      <td>Kidney</td>\n",
       "      <td>1.708454</td>\n",
       "      <td>0</td>\n",
       "      <td>0</td>\n",
       "    </tr>\n",
       "    <tr>\n",
       "      <th>...</th>\n",
       "      <td>...</td>\n",
       "      <td>...</td>\n",
       "      <td>...</td>\n",
       "      <td>...</td>\n",
       "      <td>...</td>\n",
       "    </tr>\n",
       "    <tr>\n",
       "      <th>76</th>\n",
       "      <td>Positive</td>\n",
       "      <td>Kidney</td>\n",
       "      <td>25.035422</td>\n",
       "      <td>0</td>\n",
       "      <td>0</td>\n",
       "    </tr>\n",
       "    <tr>\n",
       "      <th>77</th>\n",
       "      <td>Negative</td>\n",
       "      <td>Kidney</td>\n",
       "      <td>4.895378</td>\n",
       "      <td>0</td>\n",
       "      <td>0</td>\n",
       "    </tr>\n",
       "    <tr>\n",
       "      <th>78</th>\n",
       "      <td>Positive</td>\n",
       "      <td>Kidney</td>\n",
       "      <td>0.591388</td>\n",
       "      <td>1</td>\n",
       "      <td>1</td>\n",
       "    </tr>\n",
       "    <tr>\n",
       "      <th>79</th>\n",
       "      <td>Positive</td>\n",
       "      <td>Ureter</td>\n",
       "      <td>3.909731</td>\n",
       "      <td>0</td>\n",
       "      <td>0</td>\n",
       "    </tr>\n",
       "    <tr>\n",
       "      <th>80</th>\n",
       "      <td>Negative</td>\n",
       "      <td>Kidney</td>\n",
       "      <td>15.868909</td>\n",
       "      <td>0</td>\n",
       "      <td>0</td>\n",
       "    </tr>\n",
       "  </tbody>\n",
       "</table>\n",
       "<p>81 rows × 5 columns</p>\n",
       "</div>"
      ],
      "text/plain": [
       "   pdl1_expression primary  fu_months  mortality_overall  mortality_cancer\n",
       "0         Positive  Kidney   2.365552                  0                 0\n",
       "1         Positive   Penis   8.673689                  0                 0\n",
       "2         Negative  Kidney  30.127929                  0                 0\n",
       "3         Positive  Kidney  10.414998                  0                 0\n",
       "4         Negative  Kidney   1.708454                  0                 0\n",
       "..             ...     ...        ...                ...               ...\n",
       "76        Positive  Kidney  25.035422                  0                 0\n",
       "77        Negative  Kidney   4.895378                  0                 0\n",
       "78        Positive  Kidney   0.591388                  1                 1\n",
       "79        Positive  Ureter   3.909731                  0                 0\n",
       "80        Negative  Kidney  15.868909                  0                 0\n",
       "\n",
       "[81 rows x 5 columns]"
      ]
     },
     "execution_count": 2,
     "metadata": {},
     "output_type": "execute_result"
    }
   ],
   "source": [
    "df_survival = df.loc[:,['pdl1_expression','primary','fu_months','mortality_overall','mortality_cancer']]\n",
    "df_survival['mortality_overall'].replace({'AWD + NED':0,'DOD + DOC':1}, inplace=True)\n",
    "df_survival['mortality_cancer'].replace({'AWD + NED + DOC':0,'DOD':1}, inplace=True)\n",
    "df_survival"
   ]
  },
  {
   "cell_type": "markdown",
   "metadata": {},
   "source": [
    "## PD-L1 expression and overall mortality"
   ]
  },
  {
   "cell_type": "markdown",
   "metadata": {},
   "source": [
    "### All tumors"
   ]
  },
  {
   "cell_type": "code",
   "execution_count": 3,
   "metadata": {},
   "outputs": [
    {
     "data": {
      "image/png": "[encoded data removed]",
      "text/plain": [
       "<Figure size 864x576 with 1 Axes>"
      ]
     },
     "metadata": {},
     "output_type": "display_data"
    }
   ],
   "source": [
    "kmf = KaplanMeierFitter()\n",
    "for name, data in df_survival.groupby('pdl1_expression'):\n",
    "    kmf.fit(data['fu_months'], data['mortality_overall'], label=name)\n",
    "    kmf.plot(ci_show=False, lw=2.5, marker='o')"
   ]
  },
  {
   "cell_type": "code",
   "execution_count": 4,
   "metadata": {},
   "outputs": [
    {
     "name": "stdout",
     "output_type": "stream",
     "text": [
      "0.5550694451324474\n"
     ]
    }
   ],
   "source": [
    "# P value (log-rank test)\n",
    "results = multivariate_logrank_test(df_survival['fu_months'], df_survival['pdl1_expression'], df_survival['mortality_overall'])\n",
    "print(results.p_value)"
   ]
  },
  {
   "cell_type": "markdown",
   "metadata": {},
   "source": [
    "### Primary: Kidney"
   ]
  },
  {
   "cell_type": "code",
   "execution_count": 11,
   "metadata": {},
   "outputs": [
    {
     "data": {
      "image/png": "[encoded data removed]",
      "text/plain": [
       "<Figure size 864x576 with 1 Axes>"
      ]
     },
     "metadata": {},
     "output_type": "display_data"
    }
   ],
   "source": [
    "df_survival_kidney = df_survival.query('primary == \"Kidney\"')\n",
    "kmf =KaplanMeierFitter()\n",
    "for name, data in df_survival_kidney.groupby('pdl1_expression'):\n",
    "    kmf.fit(data['fu_months'], data['mortality_overall'], label=name)\n",
    "    kmf.plot(ci_show=False, linewidth=2.5, marker='o')"
   ]
  },
  {
   "cell_type": "code",
   "execution_count": 15,
   "metadata": {},
   "outputs": [
    {
     "name": "stdout",
     "output_type": "stream",
     "text": [
      "0.7940941456087061\n"
     ]
    }
   ],
   "source": [
    "# P value\n",
    "results = multivariate_logrank_test(df_survival_kidney['fu_months'], df_survival_kidney['pdl1_expression'], df_survival_kidney['mortality_overall'])\n",
    "print(results.p_value)"
   ]
  },
  {
   "cell_type": "markdown",
   "metadata": {},
   "source": [
    "### Primary: Penis"
   ]
  },
  {
   "cell_type": "code",
   "execution_count": 18,
   "metadata": {},
   "outputs": [
    {
     "data": {
      "image/png": "[encoded data removed]",
      "text/plain": [
       "<Figure size 864x576 with 1 Axes>"
      ]
     },
     "metadata": {},
     "output_type": "display_data"
    }
   ],
   "source": [
    "df_survival_penis = df_survival.query('primary == \"Penis\"')\n",
    "kmf = KaplanMeierFitter()\n",
    "for name, data in df_survival_penis.groupby('pdl1_expression'):\n",
    "    kmf.fit(data['fu_months'], data['mortality_overall'], label=name)\n",
    "    kmf.plot(linewidth=2.5, marker='o')"
   ]
  },
  {
   "cell_type": "code",
   "execution_count": 19,
   "metadata": {},
   "outputs": [
    {
     "name": "stdout",
     "output_type": "stream",
     "text": [
      "1.0\n"
     ]
    }
   ],
   "source": [
    "results = multivariate_logrank_test(df_survival_penis['fu_months'], df_survival_penis['pdl1_expression'], df_survival_penis['mortality_overall'])\n",
    "print(results.p_value)"
   ]
  },
  {
   "cell_type": "markdown",
   "metadata": {},
   "source": [
    "### Primary: Bladder"
   ]
  },
  {
   "cell_type": "code",
   "execution_count": null,
   "metadata": {},
   "outputs": [],
   "source": []
  },
  {
   "cell_type": "markdown",
   "metadata": {},
   "source": [
    "Kidney\n",
    "Penis\n",
    "Bladder\n",
    "Urethra\n",
    "Ureter\n",
    "Prostate"
   ]
  },
  {
   "cell_type": "markdown",
   "metadata": {},
   "source": [
    "## PD-L1 expression and cancer-related mortality "
   ]
  },
  {
   "cell_type": "code",
   "execution_count": null,
   "metadata": {},
   "outputs": [],
   "source": [
    "kmf = KaplanMeierFitter()\n",
    "for name, data in df_survival.groupby('pdl1_expression'):\n",
    "    kmf.fit(data['fu_months'], data['mortality_cancer'], label=name)\n",
    "    kmf.plot(ci_show=False, linewidth=2.5, marker='o')"
   ]
  },
  {
   "cell_type": "code",
   "execution_count": null,
   "metadata": {},
   "outputs": [],
   "source": [
    "# P value (log-rank test)\n",
    "results = multivariate_logrank_test(df_survival['fu_months'], df_survival['pdl1_expression'], df_survival['mortality_cancer'])\n",
    "print(results.p_value)"
   ]
  },
  {
   "cell_type": "code",
   "execution_count": null,
   "metadata": {},
   "outputs": [],
   "source": []
  }
 ],
 "metadata": {
  "kernelspec": {
   "display_name": "Python 3",
   "language": "python",
   "name": "python3"
  },
  "language_info": {
   "codemirror_mode": {
    "name": "ipython",
    "version": 3
   },
   "file_extension": ".py",
   "mimetype": "text/x-python",
   "name": "python",
   "nbconvert_exporter": "python",
   "pygments_lexer": "ipython3",
   "version": "3.8.5"
  }
 },
 "nbformat": 4,
 "nbformat_minor": 4
}

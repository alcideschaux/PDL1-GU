{
 "cells": [
  {
   "cell_type": "code",
   "execution_count": 1,
   "metadata": {},
   "outputs": [
    {
     "data": {
      "text/html": [
       "<div>\n",
       "<style scoped>\n",
       "    .dataframe tbody tr th:only-of-type {\n",
       "        vertical-align: middle;\n",
       "    }\n",
       "\n",
       "    .dataframe tbody tr th {\n",
       "        vertical-align: top;\n",
       "    }\n",
       "\n",
       "    .dataframe thead th {\n",
       "        text-align: right;\n",
       "    }\n",
       "</style>\n",
       "<table border=\"1\" class=\"dataframe\">\n",
       "  <thead>\n",
       "    <tr style=\"text-align: right;\">\n",
       "      <th></th>\n",
       "      <th>id</th>\n",
       "      <th>sex</th>\n",
       "      <th>race</th>\n",
       "      <th>age</th>\n",
       "      <th>tissue</th>\n",
       "      <th>specimen</th>\n",
       "      <th>primary</th>\n",
       "      <th>date_dx</th>\n",
       "      <th>anti_pdl1</th>\n",
       "      <th>outcome</th>\n",
       "      <th>date_last</th>\n",
       "      <th>pdl1_expression</th>\n",
       "      <th>pdl1_score</th>\n",
       "      <th>origin</th>\n",
       "      <th>subtype</th>\n",
       "      <th>muscle_invasion</th>\n",
       "      <th>fu_months</th>\n",
       "      <th>mortality_overall</th>\n",
       "      <th>mortality_cancer</th>\n",
       "      <th>pdl1_level</th>\n",
       "    </tr>\n",
       "  </thead>\n",
       "  <tbody>\n",
       "    <tr>\n",
       "      <th>0</th>\n",
       "      <td>1</td>\n",
       "      <td>Male</td>\n",
       "      <td>Causasian</td>\n",
       "      <td>73</td>\n",
       "      <td>B</td>\n",
       "      <td>transurethral resection</td>\n",
       "      <td>Bladder</td>\n",
       "      <td>2020-01-28</td>\n",
       "      <td>No</td>\n",
       "      <td>AWD</td>\n",
       "      <td>2020-09-14</td>\n",
       "      <td>Negative</td>\n",
       "      <td>3</td>\n",
       "      <td>Primary</td>\n",
       "      <td>UC, pure</td>\n",
       "      <td>No</td>\n",
       "      <td>7.556623</td>\n",
       "      <td>AWD + NED</td>\n",
       "      <td>AWD + NED + DOC</td>\n",
       "      <td>Negative</td>\n",
       "    </tr>\n",
       "    <tr>\n",
       "      <th>1</th>\n",
       "      <td>2</td>\n",
       "      <td>Male</td>\n",
       "      <td>Causasian</td>\n",
       "      <td>81</td>\n",
       "      <td>B</td>\n",
       "      <td>transurethral resection</td>\n",
       "      <td>Bladder</td>\n",
       "      <td>2019-12-12</td>\n",
       "      <td>No</td>\n",
       "      <td>AWD</td>\n",
       "      <td>2020-10-08</td>\n",
       "      <td>Positive</td>\n",
       "      <td>10</td>\n",
       "      <td>Primary</td>\n",
       "      <td>UC, variant</td>\n",
       "      <td>No</td>\n",
       "      <td>9.889320</td>\n",
       "      <td>AWD + NED</td>\n",
       "      <td>AWD + NED + DOC</td>\n",
       "      <td>Negative</td>\n",
       "    </tr>\n",
       "    <tr>\n",
       "      <th>2</th>\n",
       "      <td>3</td>\n",
       "      <td>Male</td>\n",
       "      <td>Causasian</td>\n",
       "      <td>58</td>\n",
       "      <td>Ua</td>\n",
       "      <td>bx</td>\n",
       "      <td>Urethra</td>\n",
       "      <td>2017-11-01</td>\n",
       "      <td>No</td>\n",
       "      <td>AWD</td>\n",
       "      <td>2020-09-30</td>\n",
       "      <td>Positive</td>\n",
       "      <td>10</td>\n",
       "      <td>Primary</td>\n",
       "      <td>UC, pure</td>\n",
       "      <td>NaN</td>\n",
       "      <td>34.957597</td>\n",
       "      <td>AWD + NED</td>\n",
       "      <td>AWD + NED + DOC</td>\n",
       "      <td>Negative</td>\n",
       "    </tr>\n",
       "    <tr>\n",
       "      <th>3</th>\n",
       "      <td>4</td>\n",
       "      <td>Female</td>\n",
       "      <td>Causasian</td>\n",
       "      <td>72</td>\n",
       "      <td>B</td>\n",
       "      <td>bX</td>\n",
       "      <td>Bladder</td>\n",
       "      <td>2020-02-24</td>\n",
       "      <td>No</td>\n",
       "      <td>DOD</td>\n",
       "      <td>2020-03-24</td>\n",
       "      <td>Positive</td>\n",
       "      <td>100</td>\n",
       "      <td>Primary</td>\n",
       "      <td>UC, variant</td>\n",
       "      <td>No</td>\n",
       "      <td>0.952792</td>\n",
       "      <td>DOD + DOC</td>\n",
       "      <td>DOD</td>\n",
       "      <td>High</td>\n",
       "    </tr>\n",
       "    <tr>\n",
       "      <th>4</th>\n",
       "      <td>5</td>\n",
       "      <td>Female</td>\n",
       "      <td>Causasian</td>\n",
       "      <td>59</td>\n",
       "      <td>B</td>\n",
       "      <td>transurethral resection</td>\n",
       "      <td>Bladder</td>\n",
       "      <td>2019-06-07</td>\n",
       "      <td>Yes</td>\n",
       "      <td>AWD</td>\n",
       "      <td>2020-06-30</td>\n",
       "      <td>Positive</td>\n",
       "      <td>60</td>\n",
       "      <td>Primary</td>\n",
       "      <td>UC, variant</td>\n",
       "      <td>Yes</td>\n",
       "      <td>12.780550</td>\n",
       "      <td>AWD + NED</td>\n",
       "      <td>AWD + NED + DOC</td>\n",
       "      <td>High</td>\n",
       "    </tr>\n",
       "  </tbody>\n",
       "</table>\n",
       "</div>"
      ],
      "text/plain": [
       "   id     sex       race  age tissue                 specimen  primary  \\\n",
       "0   1    Male  Causasian   73      B  transurethral resection  Bladder   \n",
       "1   2    Male  Causasian   81      B  transurethral resection  Bladder   \n",
       "2   3    Male  Causasian   58     Ua                       bx  Urethra   \n",
       "3   4  Female  Causasian   72      B                       bX  Bladder   \n",
       "4   5  Female  Causasian   59      B  transurethral resection  Bladder   \n",
       "\n",
       "     date_dx anti_pdl1 outcome  date_last pdl1_expression  pdl1_score  \\\n",
       "0 2020-01-28        No     AWD 2020-09-14        Negative           3   \n",
       "1 2019-12-12        No     AWD 2020-10-08        Positive          10   \n",
       "2 2017-11-01        No     AWD 2020-09-30        Positive          10   \n",
       "3 2020-02-24        No     DOD 2020-03-24        Positive         100   \n",
       "4 2019-06-07       Yes     AWD 2020-06-30        Positive          60   \n",
       "\n",
       "    origin      subtype muscle_invasion  fu_months mortality_overall  \\\n",
       "0  Primary     UC, pure              No   7.556623         AWD + NED   \n",
       "1  Primary  UC, variant              No   9.889320         AWD + NED   \n",
       "2  Primary     UC, pure             NaN  34.957597         AWD + NED   \n",
       "3  Primary  UC, variant              No   0.952792         DOD + DOC   \n",
       "4  Primary  UC, variant             Yes  12.780550         AWD + NED   \n",
       "\n",
       "  mortality_cancer pdl1_level  \n",
       "0  AWD + NED + DOC   Negative  \n",
       "1  AWD + NED + DOC   Negative  \n",
       "2  AWD + NED + DOC   Negative  \n",
       "3              DOD       High  \n",
       "4  AWD + NED + DOC       High  "
      ]
     },
     "execution_count": 1,
     "metadata": {},
     "output_type": "execute_result"
    }
   ],
   "source": [
    "import pandas as pd\n",
    "import numpy as np\n",
    "from lifelines import KaplanMeierFitter\n",
    "from lifelines.statistics import multivariate_logrank_test, pairwise_logrank_test\n",
    "\n",
    "import matplotlib.pyplot as plt\n",
    "import seaborn as sns\n",
    "sns.set(rc={'figure.figsize':[12,8]})\n",
    "\n",
    "df = pd.read_pickle('PDL1_GU_DATA.pkl')\n",
    "\n",
    "df.head()"
   ]
  },
  {
   "cell_type": "markdown",
   "metadata": {},
   "source": [
    "# Survival curves"
   ]
  },
  {
   "cell_type": "code",
   "execution_count": 2,
   "metadata": {},
   "outputs": [
    {
     "data": {
      "text/html": [
       "<div>\n",
       "<style scoped>\n",
       "    .dataframe tbody tr th:only-of-type {\n",
       "        vertical-align: middle;\n",
       "    }\n",
       "\n",
       "    .dataframe tbody tr th {\n",
       "        vertical-align: top;\n",
       "    }\n",
       "\n",
       "    .dataframe thead th {\n",
       "        text-align: right;\n",
       "    }\n",
       "</style>\n",
       "<table border=\"1\" class=\"dataframe\">\n",
       "  <thead>\n",
       "    <tr style=\"text-align: right;\">\n",
       "      <th></th>\n",
       "      <th>pdl1_level</th>\n",
       "      <th>fu_months</th>\n",
       "      <th>mortality_overall</th>\n",
       "      <th>mortality_cancer</th>\n",
       "    </tr>\n",
       "  </thead>\n",
       "  <tbody>\n",
       "    <tr>\n",
       "      <th>0</th>\n",
       "      <td>Negative</td>\n",
       "      <td>7.556623</td>\n",
       "      <td>0</td>\n",
       "      <td>0</td>\n",
       "    </tr>\n",
       "    <tr>\n",
       "      <th>1</th>\n",
       "      <td>Negative</td>\n",
       "      <td>9.889320</td>\n",
       "      <td>0</td>\n",
       "      <td>0</td>\n",
       "    </tr>\n",
       "    <tr>\n",
       "      <th>2</th>\n",
       "      <td>Negative</td>\n",
       "      <td>34.957597</td>\n",
       "      <td>0</td>\n",
       "      <td>0</td>\n",
       "    </tr>\n",
       "    <tr>\n",
       "      <th>3</th>\n",
       "      <td>High</td>\n",
       "      <td>0.952792</td>\n",
       "      <td>1</td>\n",
       "      <td>1</td>\n",
       "    </tr>\n",
       "    <tr>\n",
       "      <th>4</th>\n",
       "      <td>High</td>\n",
       "      <td>12.780550</td>\n",
       "      <td>0</td>\n",
       "      <td>0</td>\n",
       "    </tr>\n",
       "  </tbody>\n",
       "</table>\n",
       "</div>"
      ],
      "text/plain": [
       "  pdl1_level  fu_months  mortality_overall  mortality_cancer\n",
       "0   Negative   7.556623                  0                 0\n",
       "1   Negative   9.889320                  0                 0\n",
       "2   Negative  34.957597                  0                 0\n",
       "3       High   0.952792                  1                 1\n",
       "4       High  12.780550                  0                 0"
      ]
     },
     "execution_count": 2,
     "metadata": {},
     "output_type": "execute_result"
    }
   ],
   "source": [
    "df_survival = df.loc[:,['pdl1_level','fu_months','mortality_overall','mortality_cancer']]\n",
    "df_survival['mortality_overall'].replace({'AWD + NED':0,'DOD + DOC':1}, inplace=True)\n",
    "df_survival['mortality_cancer'].replace({'AWD + NED + DOC':0,'DOD':1}, inplace=True)\n",
    "df_survival.head()"
   ]
  },
  {
   "cell_type": "markdown",
   "metadata": {},
   "source": [
    "## PD-L1 level and overall mortality"
   ]
  },
  {
   "cell_type": "code",
   "execution_count": 3,
   "metadata": {},
   "outputs": [
    {
     "data": {
      "image/png": "[encoded data removed]",
      "text/plain": [
       "<Figure size 864x576 with 1 Axes>"
      ]
     },
     "metadata": {},
     "output_type": "display_data"
    }
   ],
   "source": [
    "kmf = KaplanMeierFitter()\n",
    "for name, data in df_survival.groupby('pdl1_level'):\n",
    "    kmf.fit(data['fu_months'], data['mortality_overall'], label=name)\n",
    "    kmf.plot(ci_show=False, lw=2.5, marker='o')"
   ]
  },
  {
   "cell_type": "code",
   "execution_count": 4,
   "metadata": {},
   "outputs": [
    {
     "name": "stdout",
     "output_type": "stream",
     "text": [
      "0.09729248179243781\n"
     ]
    }
   ],
   "source": [
    "# P value (log-rank test)\n",
    "results = multivariate_logrank_test(df_survival['fu_months'], df_survival['pdl1_level'], df_survival['mortality_overall'])\n",
    "print(results.p_value)"
   ]
  },
  {
   "cell_type": "markdown",
   "metadata": {},
   "source": [
    "## PD-L1 expression and cancer-related mortality "
   ]
  },
  {
   "cell_type": "code",
   "execution_count": 5,
   "metadata": {},
   "outputs": [
    {
     "data": {
      "image/png": "[encoded data removed]",
      "text/plain": [
       "<Figure size 864x576 with 1 Axes>"
      ]
     },
     "metadata": {},
     "output_type": "display_data"
    }
   ],
   "source": [
    "for name, data in df_survival.groupby('pdl1_level'):\n",
    "    kmf.fit(data['fu_months'], data['mortality_cancer'], label=name)\n",
    "    kmf.plot(ci_show=False, linewidth=2.5, marker='o')"
   ]
  },
  {
   "cell_type": "code",
   "execution_count": 6,
   "metadata": {},
   "outputs": [
    {
     "name": "stdout",
     "output_type": "stream",
     "text": [
      "0.7899827163545653\n"
     ]
    }
   ],
   "source": [
    "# P value (log-rank test)\n",
    "results = multivariate_logrank_test(df_survival['fu_months'], df_survival['pdl1_level'], df_survival['mortality_cancer'])\n",
    "print(results.p_value)"
   ]
  }
 ],
 "metadata": {
  "kernelspec": {
   "display_name": "Python 3",
   "language": "python",
   "name": "python3"
  },
  "language_info": {
   "codemirror_mode": {
    "name": "ipython",
    "version": 3
   },
   "file_extension": ".py",
   "mimetype": "text/x-python",
   "name": "python",
   "nbconvert_exporter": "python",
   "pygments_lexer": "ipython3",
   "version": "3.8.5"
  }
 },
 "nbformat": 4,
 "nbformat_minor": 4
}
